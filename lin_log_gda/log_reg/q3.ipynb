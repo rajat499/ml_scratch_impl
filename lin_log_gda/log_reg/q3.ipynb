{
 "cells": [
  {
   "cell_type": "code",
   "execution_count": 1,
   "metadata": {},
   "outputs": [],
   "source": [
    "import numpy as np\n",
    "import matplotlib.pyplot as plt\n",
    "\n",
    "#Importing data\n",
    "data_x = np.genfromtxt('../data/q3/logisticX.csv', delimiter=',')\n",
    "data_y = np.genfromtxt('../data/q3/logisticY.csv', delimiter=',')\n",
    "data_y = data_y.reshape(-1,1)\n",
    "\n",
    "#Normalizing the vector data_X\n",
    "mean = np.mean(data_x, axis = 0).reshape(1,-1)\n",
    "std = np.std(data_x, axis = 0).reshape(1,-1)\n",
    "norm_x = (data_x-mean)/std #normalized data_x\n",
    "\n",
    "#size of dataset\n",
    "(m,n) = data_x.shape\n",
    "\n",
    "#Adding the intercept term to norm _x\n",
    "intercept = np.ones(m).reshape(-1,1)\n",
    "data_x = np.concatenate((intercept, norm_x), axis=1)\n",
    "#Now the training data is data_x(mXn) and data_y(mX1)\n",
    "\n",
    "data_x_trans = data_x.T\n",
    "#size of dataset\n",
    "(m,n) = data_x.shape"
   ]
  },
  {
   "cell_type": "code",
   "execution_count": 2,
   "metadata": {},
   "outputs": [],
   "source": [
    "#Helper functions\n",
    "\n",
    "#Sigmoid of a given value\n",
    "#z should be np array\n",
    "def sigmoid(z):\n",
    "    return 1/(1+np.exp(-z))\n",
    "\n",
    "#Prediction of values given theta and input values\n",
    "def prediction(theta, x):\n",
    "    return np.matmul(x,theta)\n",
    "\n",
    "#To calculate the subtraction term in Newton's method, given a theta, the function first calculates hessian,\n",
    "# and first order derivative, takes inverse of hessian and multiplies it with the later to give the result\n",
    "def term(theta):\n",
    "    pred = sigmoid(prediction(theta,data_x))\n",
    "    error = (data_y-pred)\n",
    "    first_der = np.matmul(data_x_trans,error)\n",
    "    hessian = np.zeros((n,n))\n",
    "    for i in range(m):\n",
    "        p = pred[i][0]\n",
    "        x = data_x[i]\n",
    "        l = p*(p-1)*np.matmul(x.reshape(-1,1),x.reshape(1,-1))\n",
    "        hessian = hessian + l\n",
    "    second_der = np.linalg.pinv(hessian)\n",
    "    return np.matmul(second_der, first_der)"
   ]
  },
  {
   "cell_type": "code",
   "execution_count": 3,
   "metadata": {},
   "outputs": [
    {
     "name": "stdout",
     "output_type": "stream",
     "text": [
      "The value of parameters learnt is:\n",
      "[[ 0.40125316]\n",
      " [ 2.5885477 ]\n",
      " [-2.72558849]]\n"
     ]
    }
   ],
   "source": [
    "#Part (a)\n",
    "#The parameter Vector theta and initializing it\n",
    "theta = np.zeros(n).reshape(-1,1)\n",
    "\n",
    "progress = []\n",
    "for i in range(1000):\n",
    "    t  = term(theta)\n",
    "    #to compare it with old value of theta \n",
    "    newtheta = theta - t\n",
    "    flag = 0\n",
    "    #The convergence criteria, if all the elements of parameter don't change by 10^-7 then theta has converged\n",
    "    for eps in (newtheta-theta):\n",
    "        if(eps[0]>0.0000001):\n",
    "            flag = 1\n",
    "    if(flag==1):\n",
    "        theta = newtheta\n",
    "    else:\n",
    "        break\n",
    "print(\"The value of parameters learnt is:\")\n",
    "print(theta)"
   ]
  },
  {
   "cell_type": "code",
   "execution_count": 15,
   "metadata": {},
   "outputs": [
    {
     "data": {
      "image/png": "[encoded data removed]",
      "text/plain": [
       "<Figure size 432x288 with 1 Axes>"
      ]
     },
     "metadata": {
      "needs_background": "light"
     },
     "output_type": "display_data"
    }
   ],
   "source": [
    "#Part(b)\n",
    "\n",
    "#Segretaing in two different classes based on value of y(i)\n",
    "class1 = np.argwhere(data_y==1)[:,0]\n",
    "class0 = np.argwhere(data_y==0)[:,0]\n",
    "class1_x1 = data_x[class1,1]\n",
    "class1_x2 = data_x[class1,2]\n",
    "class0_x1 = data_x[class0,1]\n",
    "class0_x2 = data_x[class0,2]\n",
    "\n",
    "#Plotting the two different classes and their decision boundary as indicated by theta learnt above\n",
    "plt.figure(1)\n",
    "plt.scatter(class1_x1, class1_x2, c=\"red\", label = 'Class {Y(i)=1}')\n",
    "plt.scatter(class0_x1, class0_x2, c=\"green\", label = 'Class {Y(i)=0}')\n",
    "x = np.linspace(-2.0,2.5,100)\n",
    "y = (theta[0][0] + theta[1][0]*x)/(-1*theta[2][0])\n",
    "plt.xlabel('X1')\n",
    "plt.ylabel('X2')\n",
    "plt.plot(x,y,'-b', label='Decision Boundary')\n",
    "plt.legend(loc='right', bbox_to_anchor=(0.5, 1.05))\n",
    "plt.show()"
   ]
  }
 ],
 "metadata": {
  "kernelspec": {
   "display_name": "Python 3",
   "language": "python",
   "name": "python3"
  },
  "language_info": {
   "codemirror_mode": {
    "name": "ipython",
    "version": 3
   },
   "file_extension": ".py",
   "mimetype": "text/x-python",
   "name": "python",
   "nbconvert_exporter": "python",
   "pygments_lexer": "ipython3",
   "version": "3.7.4"
  }
 },
 "nbformat": 4,
 "nbformat_minor": 2
}
