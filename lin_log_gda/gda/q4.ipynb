{
 "cells": [
  {
   "cell_type": "code",
   "execution_count": 1,
   "metadata": {},
   "outputs": [],
   "source": [
    "import numpy as np\n",
    "import matplotlib.pyplot as plt\n",
    "import math\n",
    "\n",
    "#Importing data\n",
    "data_x = np.genfromtxt('../data/q4/q4x.dat', delimiter='  ')\n",
    "data_y = np.genfromtxt('../data/q4/q4y.dat', dtype='str')\n",
    "\n",
    "#Segregating the two different classes, storing their indices\n",
    "alaska = np.argwhere(data_y=='Alaska')[:,0]\n",
    "canada = np.argwhere(data_y=='Canada')[:,0]\n",
    "data_y = np.zeros(data_y.shape[0])\n",
    "\n",
    "#Setting y values of classes to 0 or 1 based on their class \n",
    "data_y[alaska] = 0\n",
    "data_y[canada] = 1\n",
    "data_y = data_y.reshape(-1,1)\n",
    "\n",
    "#Normalizing the vector data_X\n",
    "mean = np.mean(data_x, axis = 0).reshape(1,-1)\n",
    "std = np.std(data_x, axis = 0).reshape(1,-1)\n",
    "data_x = (data_x-mean)/std #normalized data_x\n",
    "\n",
    "#size of dataset\n",
    "(m,n) = data_x.shape"
   ]
  },
  {
   "cell_type": "code",
   "execution_count": 2,
   "metadata": {},
   "outputs": [],
   "source": [
    "#Count of data in two different classes and then calculating value of phi since y is bernoulli distributed\n",
    "count_alaska = alaska.shape[0]\n",
    "count_canada = canada.shape[0]\n",
    "phi = (count_canada)/(count_alaska + count_canada)\n",
    "\n",
    "#Storing data of two classes differently\n",
    "alaska_x = data_x[alaska]\n",
    "canada_x = data_x[canada]\n",
    "\n",
    "#Calculating mean of two different classes\n",
    "mu0 = np.mean(alaska_x, axis=0)\n",
    "mu1 = np.mean(canada_x, axis=0)\n",
    "\n",
    "#Calculating covariance for class 0\n",
    "eps0 = np.zeros((n,n))\n",
    "for x in alaska_x:\n",
    "    e = (x-mu0).reshape(-1,1)\n",
    "    eps0 = eps0 + np.matmul(e,e.T)\n",
    "eps0 = eps0/(count_alaska)\n",
    "\n",
    "#Calculating covariance for class 1\n",
    "eps1 = np.zeros((n,n))\n",
    "for x in canada_x:\n",
    "    e = (x-mu1).reshape(-1,1)\n",
    "    eps1 = eps1 + np.matmul(e,e.T)\n",
    "eps1 = eps1/(count_canada)\n",
    "\n",
    "# Calculating covariance of entire data together, assuming they have same covariance i.e. sigma=sigma0=sigma1\n",
    "eps = (count_alaska*eps0 + count_canada*eps1)/(count_canada + count_alaska)"
   ]
  },
  {
   "cell_type": "code",
   "execution_count": 3,
   "metadata": {},
   "outputs": [
    {
     "name": "stdout",
     "output_type": "stream",
     "text": [
      "Phi=  0.5 \n",
      "\n",
      "Mu0=  [-0.75529433  0.68509431]\n",
      "Mu1=  [ 0.75529433 -0.68509431] \n",
      "\n",
      "Covariance Matrix:\n",
      "[[ 0.42953048 -0.02247228]\n",
      " [-0.02247228  0.53064579]]\n"
     ]
    }
   ],
   "source": [
    "#Part (a), The corresponding values of parameters\n",
    "print(\"Phi= \", phi, \"\\n\") \n",
    "print(\"Mu0= \", mu0)\n",
    "print(\"Mu1= \", mu1, \"\\n\")\n",
    "print(\"Covariance Matrix:\")\n",
    "print(eps)"
   ]
  },
  {
   "cell_type": "code",
   "execution_count": 4,
   "metadata": {},
   "outputs": [
    {
     "data": {
      "image/png": "[encoded data removed]",
      "text/plain": [
       "<Figure size 432x288 with 1 Axes>"
      ]
     },
     "metadata": {
      "needs_background": "light"
     },
     "output_type": "display_data"
    }
   ],
   "source": [
    "#part b, plotting the data, labelling them in different classes\n",
    "plt.figure(1)\n",
    "plt.scatter(alaska_x[:,0], alaska_x[:,1], c=\"red\", label='Class- Alaska {y(i)=0}')\n",
    "plt.scatter(canada_x[:,0], canada_x[:,1], c=\"green\", label='Class- Canada {y(i)=1}')\n",
    "plt.xlabel('X1')\n",
    "plt.ylabel('X2')\n",
    "plt.legend()\n",
    "plt.show()"
   ]
  },
  {
   "cell_type": "code",
   "execution_count": 5,
   "metadata": {},
   "outputs": [
    {
     "data": {
      "image/png": "[encoded data removed]",
      "text/plain": [
       "<Figure size 432x288 with 1 Axes>"
      ]
     },
     "metadata": {
      "needs_background": "light"
     },
     "output_type": "display_data"
    },
    {
     "name": "stdout",
     "output_type": "stream",
     "text": [
      "Equation of linear decision boundary is:\n",
      "-3.642189162864482e-16  +  -1.3898453073976291 x +  y = 0\n"
     ]
    }
   ],
   "source": [
    "#part c, calculating linear decision boundary and plotting it\n",
    "plt.figure(2)\n",
    "plt.scatter(alaska_x[:,0], alaska_x[:,1], c=\"red\", label='Class- Alaska {y(i)=0}')\n",
    "plt.scatter(canada_x[:,0], canada_x[:,1], c=\"green\", label='Class- Canada {y(i)=1}')\n",
    "plt.xlabel('X1')\n",
    "plt.ylabel('X2')\n",
    "\n",
    "mu1 = mu1.reshape(1,-1)\n",
    "mu0 = mu0.reshape(1,-1)\n",
    "\n",
    "epsinv = np.linalg.pinv(eps)\n",
    "mu1_mu0 = (mu1-mu0).reshape(1,-1)\n",
    "\n",
    "#The coefficients obtained from the GDA equation on solving p(y=1/x;theta) = p(y=0/x;theta) \n",
    "a = np.matmul(epsinv,mu1_mu0.T)\n",
    "b = np.matmul(mu1_mu0,epsinv)\n",
    "c = np.matmul(np.matmul(mu0, epsinv), mu0.T) - np.matmul(np.matmul(mu1, epsinv), mu1.T)\n",
    "c = c[0][0]\n",
    "d = 2*(math.log(phi)-math.log(1-phi))\n",
    "\n",
    "#Plotting the decision boundary\n",
    "x = np.linspace(-1.5,1.5,100)\n",
    "y = np.linspace(-2, 2, 100)\n",
    "\n",
    "x,y = np.meshgrid(x,y)\n",
    "plt.contour(x,y,(d+c+(a[0][0]+b[0][0])*x+(a[1][0]+b[0][1])*y),[0], colors='b')\n",
    "plt.legend(loc='upper right', fontsize=7)\n",
    "plt.show()\n",
    "\n",
    "#The equation for the given boundary\n",
    "print(\"Equation of linear decision boundary is:\")\n",
    "print((d+c)/(a[1][0]+b[0][1]),\" + \",(a[0][0]+b[0][0])/(a[1][0]+b[0][1]),\"x + \",\"y = 0\")"
   ]
  },
  {
   "cell_type": "code",
   "execution_count": 6,
   "metadata": {},
   "outputs": [
    {
     "name": "stdout",
     "output_type": "stream",
     "text": [
      "Mu0=  [[-0.75529433  0.68509431]]\n",
      "Mu1=  [[ 0.75529433 -0.68509431]] \n",
      "\n",
      "Covariance Matrix (Sigma0):\n",
      "[[ 0.38158978 -0.15486516]\n",
      " [-0.15486516  0.64773717]] \n",
      "\n",
      "Covariance Matrix (Sigma1):\n",
      "[[0.47747117 0.1099206 ]\n",
      " [0.1099206  0.41355441]]\n"
     ]
    }
   ],
   "source": [
    "#Part d, reporting the values of calculated parameters\n",
    "print(\"Mu0= \", mu0)\n",
    "print(\"Mu1= \", mu1, \"\\n\")\n",
    "print(\"Covariance Matrix (Sigma0):\")\n",
    "print(eps0, \"\\n\")\n",
    "print(\"Covariance Matrix (Sigma1):\")\n",
    "print(eps1)"
   ]
  },
  {
   "cell_type": "code",
   "execution_count": 7,
   "metadata": {},
   "outputs": [
    {
     "data": {
      "image/png": "[encoded data removed]",
      "text/plain": [
       "<Figure size 432x288 with 1 Axes>"
      ]
     },
     "metadata": {
      "needs_background": "light"
     },
     "output_type": "display_data"
    },
    {
     "name": "stdout",
     "output_type": "stream",
     "text": [
      "The equation for Conic section is:\n",
      "0.6713477993632311 x1^2 +  2.573672673313772 x1x2 +  -0.8659319806217882 x2^2 +  7.615706387080971 x1 +  -5.71934612537374 x2 +  1.4479931143547868  = 0\n"
     ]
    }
   ],
   "source": [
    "#Part e, calculating quadratic decision boundary and plotting it\n",
    "plt.figure(3)\n",
    "plt.scatter(alaska_x[:,0], alaska_x[:,1], c=\"red\", label='Class- Alaska {y(i)=0}')\n",
    "plt.scatter(canada_x[:,0], canada_x[:,1], c=\"green\", label='Class- Canada {y(i)=1}')\n",
    "plt.xlabel('X1')\n",
    "plt.ylabel('X2')\n",
    "#The linear decision boundary calculated above\n",
    "plt.contour(x,y,(d+c+(a[0][0]+b[0][0])*x+(a[1][0]+b[0][1])*y),[0], colors='b')\n",
    "\n",
    "#Taking inverse of covariance matrices\n",
    "eps0inv = np.linalg.pinv(eps0)\n",
    "eps1inv = np.linalg.pinv(eps1)\n",
    "\n",
    "#The coefficients obtained from the GDA equation on solving p(y=1/x;theta) = p(y=0/x;theta)\n",
    "a = np.matmul(eps1inv, mu1.T)\n",
    "a_p = np.matmul(mu1, eps1inv)\n",
    "a_p = a_p.T\n",
    "\n",
    "b = np.matmul(eps0inv, mu0.T)\n",
    "b_p = np.matmul(mu0, eps0inv)\n",
    "b_p = b_p.T\n",
    "\n",
    "c = np.matmul(np.matmul(mu1, eps1inv), mu1.T) - np.matmul(np.matmul(mu0, eps0inv), mu0.T)\n",
    "c = c[0][0]\n",
    "\n",
    "det0, det1 = np.linalg.det(eps0), np.linalg.det(eps1)\n",
    "d = (math.log(phi)-math.log(1-phi)) + 0.5*(math.log(det0) - math.log(det1))\n",
    "\n",
    "lincoeff= a + a_p - b - b_p\n",
    "\n",
    "quad = eps0inv - eps1inv\n",
    "a1, b1, c1, d1 = quad[0][0], quad[0][1], quad[1][0], quad[1][1]\n",
    "lamb, delta = lincoeff[0][0], lincoeff[1][0]\n",
    "\n",
    "#Plotting the decision boundary\n",
    "x1 = np.linspace(-3, 3, 400)\n",
    "x2 = np.linspace(-3, 3, 400)\n",
    "x1, x2 = np.meshgrid(x1, x2)\n",
    "plt.contour(x1, x2, ((a1*x1*x1 + (c1+b1)*x1*x2 + d1*x2*x2 + lamb*x1 + delta*x2 + c)*0.5 + d), [0], colors='y')\n",
    "plt.legend(loc='upper left', fontsize=7)\n",
    "plt.show()\n",
    "\n",
    "#The equation for the given boundary\n",
    "print(\"The equation for Conic section is:\")\n",
    "print(a1,\"x1^2 + \",(c1+b1),\"x1x2 + \",d1,\"x2^2 + \",lamb,\"x1 + \",delta,\"x2 + \",(c+d),\" = 0\")"
   ]
  }
 ],
 "metadata": {
  "kernelspec": {
   "display_name": "Python 3",
   "language": "python",
   "name": "python3"
  },
  "language_info": {
   "codemirror_mode": {
    "name": "ipython",
    "version": 3
   },
   "file_extension": ".py",
   "mimetype": "text/x-python",
   "name": "python",
   "nbconvert_exporter": "python",
   "pygments_lexer": "ipython3",
   "version": "3.7.4"
  }
 },
 "nbformat": 4,
 "nbformat_minor": 2
}
