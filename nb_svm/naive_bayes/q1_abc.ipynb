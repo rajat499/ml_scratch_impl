{
 "cells": [
  {
   "cell_type": "code",
   "execution_count": 1,
   "metadata": {
    "scrolled": false
   },
   "outputs": [],
   "source": [
    "#Importing all the necessary libraries\n",
    "import numpy as np\n",
    "import pandas as pd\n",
    "import matplotlib.pyplot as plt\n",
    "import re\n",
    "import math\n",
    "from sklearn import metrics"
   ]
  },
  {
   "cell_type": "code",
   "execution_count": 2,
   "metadata": {},
   "outputs": [],
   "source": [
    "#Importing data\n",
    "data = pd.read_csv('../data/training_noemoticon.csv', header=None, encoding='latin-1')\n",
    "data = data.to_numpy()"
   ]
  },
  {
   "cell_type": "code",
   "execution_count": 3,
   "metadata": {},
   "outputs": [],
   "source": [
    "#Function to preprocess the input x, for removing special characters and splitting the entire string\n",
    "#Also converts the entire text to lower case.\n",
    "def process(x):\n",
    "    l = []\n",
    "    for i in x:\n",
    "        t = (re.split('\\s*[@.!:/%;,\\s?\\-]\\s*', i))\n",
    "        prime = []\n",
    "        for j in t:\n",
    "            if(j==''):\n",
    "                continue\n",
    "            prime.append(j.lower())\n",
    "        l.append(prime)\n",
    "    return l"
   ]
  },
  {
   "cell_type": "code",
   "execution_count": 4,
   "metadata": {},
   "outputs": [],
   "source": [
    "#Segregating input data on the basis of their actual classes.\n",
    "\n",
    "index_0 = np.argwhere(data[:,0]==0)[:,0]\n",
    "index_1 = np.argwhere(data[:,0]==4)[:,0]\n",
    "\n",
    "x_0 = data[index_0, 5]\n",
    "y_0 = data[index_0, 0].reshape(-1,1)\n",
    "count_0 = index_0.shape[0]\n",
    "\n",
    "x_1 = data[index_1, 5]\n",
    "y_1 = data[index_1, 0].reshape(-1,1)\n",
    "count_1 = index_1.shape[0]\n",
    "\n",
    "p_0 = np.log(count_0) - np.log(count_0 + count_1)\n",
    "p_1 = np.log(count_1) - np.log(count_0 + count_1)\n",
    "\n",
    "x_0 = process(x_0)\n",
    "x_1 = process(x_1)"
   ]
  },
  {
   "cell_type": "code",
   "execution_count": 5,
   "metadata": {},
   "outputs": [],
   "source": [
    "#Creating three diferent dictonaries, two for each classes and one for union of two\n",
    "def add_dict(x_0, x_1):\n",
    "    dict_t = {}\n",
    "    dict_0 = {}\n",
    "    dict_1 = {}\n",
    "    for i in x_0:\n",
    "        for j in i:\n",
    "            if(j in dict_0):\n",
    "                dict_0[j] = dict_0.get(j) + 1\n",
    "            else:\n",
    "                dict_0[j] = 1\n",
    "            \n",
    "            if(j in dict_t):\n",
    "                dict_t[j] = dict_t.get(j) + 1\n",
    "            else:\n",
    "                dict_t[j] = 1\n",
    "                \n",
    "    \n",
    "    \n",
    "    for i in x_1:\n",
    "        for j in i:\n",
    "            if(j in dict_1):\n",
    "                dict_1[j] = dict_1.get(j) + 1\n",
    "            else:\n",
    "                dict_1[j] = 1\n",
    "            \n",
    "            if(j in dict_t):\n",
    "                dict_t[j] = dict_t.get(j) + 1\n",
    "            else:\n",
    "                dict_t[j] = 1\n",
    "                \n",
    "    return dict_t, dict_0, dict_1\n",
    "\n",
    "dict_t, dict_0, dict_1 = add_dict(x_0, x_1)"
   ]
  },
  {
   "cell_type": "code",
   "execution_count": 6,
   "metadata": {},
   "outputs": [],
   "source": [
    "#Total no of features, and their count in respective classes\n",
    "no_of_words = len(dict_t)\n",
    "total_words_0 = sum(dict_0.values())\n",
    "total_words_1 = sum(dict_1.values())\n",
    "c = 1"
   ]
  },
  {
   "cell_type": "code",
   "execution_count": 7,
   "metadata": {},
   "outputs": [],
   "source": [
    "#Importing test data\n",
    "test = pd.read_csv('../data/test.csv', header=None, encoding='latin-1')\n",
    "test = test.to_numpy()"
   ]
  },
  {
   "cell_type": "code",
   "execution_count": 8,
   "metadata": {},
   "outputs": [],
   "source": [
    "#Segregating test data on the bases of their class, and taking only class 0 and 4\n",
    "index_t = np.union1d(np.argwhere(test[:,0]==0)[:,0], np.argwhere(test[:,0]==4)[:,0])\n",
    "x_test = test[index_t, 5]\n",
    "y_test = test[index_t, 0].reshape(-1,1)\n",
    "x_test = process(x_test)"
   ]
  },
  {
   "cell_type": "code",
   "execution_count": 18,
   "metadata": {},
   "outputs": [],
   "source": [
    "#Function to predict classes, and calculate accuracy of prediction.\n",
    "#returns confusion matrix and scores of prediction as well\n",
    "def accuracy(y, x):\n",
    "    confusion = np.zeros([2,2])\n",
    "    pred = []\n",
    "    rand_pred = []\n",
    "    scores = []\n",
    "    for i in range(len(x)):\n",
    "        p0 = p_0\n",
    "        p1 = p_1\n",
    "        rand = np.random.rand()\n",
    "        for j in x[i]:\n",
    "            if(j in dict_0):\n",
    "                p0 += np.log((dict_0[j]+1)) - np.log((total_words_0 + no_of_words*c))\n",
    "            else:\n",
    "                p0 += np.log(1) - np.log((total_words_0 + no_of_words*c))\n",
    "                \n",
    "            \n",
    "            if(j in dict_1):\n",
    "                p1 += np.log((dict_1[j]+1)) - np.log((total_words_1 + no_of_words*c))\n",
    "            else:\n",
    "                p1 += np.log(1) - np.log((total_words_1 + no_of_words*c))\n",
    "          \n",
    "        scores.append(np.exp(p1)/(np.exp(p0)+np.exp(p1)))\n",
    "        if(p1>p0):\n",
    "            pred.append(4)\n",
    "        else:\n",
    "            pred.append(0)\n",
    "            \n",
    "        if(rand>0.5):\n",
    "            rand_pred.append(4)\n",
    "        else:\n",
    "            rand_pred.append(0)\n",
    "    \n",
    "    total = len(pred)\n",
    "    count_real = 0\n",
    "    count_random = 0\n",
    "    \n",
    "    print(total)\n",
    "    \n",
    "    for i in range(len(pred)):\n",
    "        if(pred[i]==y[i][0]):\n",
    "            count_real += 1\n",
    "            if(y[i][0]==0):\n",
    "                confusion[0,0] += 1\n",
    "            else:\n",
    "                confusion[1,1] += 1\n",
    "        else:\n",
    "            if(y[i][0]==0):\n",
    "                confusion[1,0] += 1\n",
    "            else:\n",
    "                confusion[0,1] += 1\n",
    "        \n",
    "        if(rand_pred[i]==y[i][0]):\n",
    "            count_random += 1\n",
    "                \n",
    "    print(count_real, count_random)\n",
    "    \n",
    "    return count_real, count_random, total, confusion, scores"
   ]
  },
  {
   "cell_type": "code",
   "execution_count": 10,
   "metadata": {},
   "outputs": [
    {
     "name": "stderr",
     "output_type": "stream",
     "text": [
      "/home/cs5170415/anaconda3/lib/python3.7/site-packages/ipykernel_launcher.py:22: RuntimeWarning: invalid value encountered in double_scalars\n"
     ]
    },
    {
     "name": "stdout",
     "output_type": "stream",
     "text": [
      "1600000\n",
      "1335289 800236\n",
      "Accuracy of the model over training set is:  83.4555625\n"
     ]
    }
   ],
   "source": [
    "#Accuracy over the training set\n",
    "count_real, count_random, total, confusion, scores = accuracy(np.concatenate((y_0, y_1), axis=0), np.concatenate((x_0, x_1), axis=0))\n",
    "print(\"Accuracy of the model over training set is: \", count_real*100/total)"
   ]
  },
  {
   "cell_type": "code",
   "execution_count": 19,
   "metadata": {},
   "outputs": [
    {
     "name": "stdout",
     "output_type": "stream",
     "text": [
      "359\n",
      "292 185\n",
      "Accuracy of the model over test set is:  81.33704735376044\n"
     ]
    }
   ],
   "source": [
    "#Accuracy over the test set\n",
    "count_real_test, count_random_test, total_test, confusion_test, scores_test = accuracy(y_test, x_test)\n",
    "print(\"Accuracy of the model over test set is: \", count_real_test*100/total_test)"
   ]
  },
  {
   "cell_type": "code",
   "execution_count": 20,
   "metadata": {},
   "outputs": [
    {
     "name": "stdout",
     "output_type": "stream",
     "text": [
      "Random prediction accuracy of the model over test set is:  51.532033426183844\n",
      "Majority prediction accuracy of the model over test set is:  51.25348189415042\n"
     ]
    }
   ],
   "source": [
    "#Random prediction and Majority Prediction\n",
    "print(\"Random prediction accuracy of the model over test set is: \", count_random_test*100/total_test)\n",
    "\n",
    "majority_pred = -1\n",
    "if(count_1 > count_0):\n",
    "    majority_pred = 1\n",
    "else:\n",
    "    majority_pred = 0\n",
    "\n",
    "count_majority_pred = confusion_test[majority_pred][0] + confusion_test[majority_pred][1]\n",
    "\n",
    "print(\"Majority prediction accuracy of the model over test set is: \", count_majority_pred*100/total_test)"
   ]
  },
  {
   "cell_type": "code",
   "execution_count": 21,
   "metadata": {},
   "outputs": [
    {
     "name": "stdout",
     "output_type": "stream",
     "text": [
      "Confusion Matrix for test set is:\n",
      " [[147.  37.]\n",
      " [ 30. 145.]]\n"
     ]
    }
   ],
   "source": [
    "#Confusion matrix of test set\n",
    "print(\"Confusion Matrix for test set is:\\n\", confusion_test)"
   ]
  },
  {
   "cell_type": "code",
   "execution_count": 22,
   "metadata": {},
   "outputs": [
    {
     "data": {
      "image/png": "[encoded data removed]",
      "text/plain": [
       "<Figure size 432x288 with 1 Axes>"
      ]
     },
     "metadata": {
      "needs_background": "light"
     },
     "output_type": "display_data"
    }
   ],
   "source": [
    "#Drawing ROC Curve on the basis of scores of prediction, with stopwords\n",
    "\n",
    "fpr, tpr, thresholds = metrics.roc_curve(np.asarray(y_test.flatten(), dtype=np.int64), scores_test, pos_label=4)\n",
    "roc_auc = metrics.auc(fpr, tpr)\n",
    "plt.figure()\n",
    "lw=2\n",
    "plt.plot(fpr, tpr, color='darkorange',\n",
    "         lw=lw, label='ROC curve (area = %0.2f)' % roc_auc)\n",
    "plt.plot([0, 1], [0, 1], color='navy', lw=lw, linestyle='--')\n",
    "plt.xlim([0.0, 1.0])\n",
    "plt.ylim([0.0, 1.05])\n",
    "plt.xlabel('False Positive Rate')\n",
    "plt.ylabel('True Positive Rate')\n",
    "plt.title('ROC for Naive Bayes with stopwords')\n",
    "plt.legend(loc=\"lower right\")\n",
    "plt.show()"
   ]
  }
 ],
 "metadata": {
  "kernelspec": {
   "display_name": "Python 3",
   "language": "python",
   "name": "python3"
  },
  "language_info": {
   "codemirror_mode": {
    "name": "ipython",
    "version": 3
   },
   "file_extension": ".py",
   "mimetype": "text/x-python",
   "name": "python",
   "nbconvert_exporter": "python",
   "pygments_lexer": "ipython3",
   "version": "3.7.4"
  }
 },
 "nbformat": 4,
 "nbformat_minor": 2
}
